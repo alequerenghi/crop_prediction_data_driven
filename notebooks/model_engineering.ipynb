{
 "cells": [
  {
   "cell_type": "markdown",
   "metadata": {},
   "source": [
    "# Model engineering"
   ]
  },
  {
   "cell_type": "code",
   "execution_count": 1,
   "metadata": {},
   "outputs": [
    {
     "data": {
      "text/html": [
       "<div>\n",
       "<style scoped>\n",
       "    .dataframe tbody tr th:only-of-type {\n",
       "        vertical-align: middle;\n",
       "    }\n",
       "\n",
       "    .dataframe tbody tr th {\n",
       "        vertical-align: top;\n",
       "    }\n",
       "\n",
       "    .dataframe thead th {\n",
       "        text-align: right;\n",
       "    }\n",
       "</style>\n",
       "<table border=\"1\" class=\"dataframe\">\n",
       "  <thead>\n",
       "    <tr style=\"text-align: right;\">\n",
       "      <th></th>\n",
       "      <th>Area</th>\n",
       "      <th>Item</th>\n",
       "      <th>Year</th>\n",
       "      <th>hg/ha_yield</th>\n",
       "      <th>average_rain_fall_mm_per_year</th>\n",
       "      <th>avg_temp</th>\n",
       "    </tr>\n",
       "  </thead>\n",
       "  <tbody>\n",
       "    <tr>\n",
       "      <th>0</th>\n",
       "      <td>Albania</td>\n",
       "      <td>Maize</td>\n",
       "      <td>1990</td>\n",
       "      <td>36613</td>\n",
       "      <td>1485.0</td>\n",
       "      <td>16.37</td>\n",
       "    </tr>\n",
       "    <tr>\n",
       "      <th>1</th>\n",
       "      <td>Albania</td>\n",
       "      <td>Potatoes</td>\n",
       "      <td>1990</td>\n",
       "      <td>66667</td>\n",
       "      <td>1485.0</td>\n",
       "      <td>16.37</td>\n",
       "    </tr>\n",
       "    <tr>\n",
       "      <th>2</th>\n",
       "      <td>Albania</td>\n",
       "      <td>Rice</td>\n",
       "      <td>1990</td>\n",
       "      <td>23333</td>\n",
       "      <td>1485.0</td>\n",
       "      <td>16.37</td>\n",
       "    </tr>\n",
       "    <tr>\n",
       "      <th>3</th>\n",
       "      <td>Albania</td>\n",
       "      <td>Sorghum</td>\n",
       "      <td>1990</td>\n",
       "      <td>12500</td>\n",
       "      <td>1485.0</td>\n",
       "      <td>16.37</td>\n",
       "    </tr>\n",
       "    <tr>\n",
       "      <th>4</th>\n",
       "      <td>Albania</td>\n",
       "      <td>Soybeans</td>\n",
       "      <td>1990</td>\n",
       "      <td>7000</td>\n",
       "      <td>1485.0</td>\n",
       "      <td>16.37</td>\n",
       "    </tr>\n",
       "  </tbody>\n",
       "</table>\n",
       "</div>"
      ],
      "text/plain": [
       "      Area      Item  Year  hg/ha_yield  average_rain_fall_mm_per_year  \\\n",
       "0  Albania     Maize  1990        36613                         1485.0   \n",
       "1  Albania  Potatoes  1990        66667                         1485.0   \n",
       "2  Albania      Rice  1990        23333                         1485.0   \n",
       "3  Albania   Sorghum  1990        12500                         1485.0   \n",
       "4  Albania  Soybeans  1990         7000                         1485.0   \n",
       "\n",
       "   avg_temp  \n",
       "0     16.37  \n",
       "1     16.37  \n",
       "2     16.37  \n",
       "3     16.37  \n",
       "4     16.37  "
      ]
     },
     "execution_count": 1,
     "metadata": {},
     "output_type": "execute_result"
    }
   ],
   "source": [
    "import pandas as pd\n",
    "from sklearn.preprocessing import StandardScaler, OneHotEncoder\n",
    "from sklearn.linear_model import LinearRegression\n",
    "from sklearn.model_selection import train_test_split, cross_val_score, GridSearchCV\n",
    "from sklearn.ensemble import RandomForestRegressor\n",
    "from sklearn.tree import DecisionTreeRegressor\n",
    "from sklearn.metrics import mean_absolute_error, root_mean_squared_error, mean_absolute_percentage_error, r2_score\n",
    "from sklearn.svm import SVR\n",
    "import pickle\n",
    "\n",
    "\n",
    "df = pd.read_csv('../data/processed/yield.csv')\n",
    "df.head()"
   ]
  },
  {
   "cell_type": "code",
   "execution_count": 2,
   "metadata": {},
   "outputs": [],
   "source": [
    "encoder = OneHotEncoder(sparse_output=False)\n",
    "encoded = pd.DataFrame(encoder.fit_transform(\n",
    "    df[['Item', 'Area']]), columns=encoder.get_feature_names_out())\n",
    "df = df.drop(['Area', 'Item'], axis=1).join(encoded)\n",
    "X = df.drop(['hg/ha_yield'], axis=1)\n",
    "y = df['hg/ha_yield']"
   ]
  },
  {
   "cell_type": "code",
   "execution_count": 3,
   "metadata": {},
   "outputs": [
    {
     "data": {
      "text/html": [
       "<div>\n",
       "<style scoped>\n",
       "    .dataframe tbody tr th:only-of-type {\n",
       "        vertical-align: middle;\n",
       "    }\n",
       "\n",
       "    .dataframe tbody tr th {\n",
       "        vertical-align: top;\n",
       "    }\n",
       "\n",
       "    .dataframe thead th {\n",
       "        text-align: right;\n",
       "    }\n",
       "</style>\n",
       "<table border=\"1\" class=\"dataframe\">\n",
       "  <thead>\n",
       "    <tr style=\"text-align: right;\">\n",
       "      <th></th>\n",
       "      <th>Year</th>\n",
       "      <th>average_rain_fall_mm_per_year</th>\n",
       "      <th>avg_temp</th>\n",
       "      <th>Item_Cassava</th>\n",
       "      <th>Item_Maize</th>\n",
       "      <th>Item_Plantains</th>\n",
       "      <th>Item_Potatoes</th>\n",
       "      <th>Item_Rice</th>\n",
       "      <th>Item_Sorghum</th>\n",
       "      <th>Item_Soybeans</th>\n",
       "      <th>...</th>\n",
       "      <th>Area_Tajikistan</th>\n",
       "      <th>Area_Thailand</th>\n",
       "      <th>Area_Tunisia</th>\n",
       "      <th>Area_Turkey</th>\n",
       "      <th>Area_Uganda</th>\n",
       "      <th>Area_Ukraine</th>\n",
       "      <th>Area_United Kingdom</th>\n",
       "      <th>Area_Uruguay</th>\n",
       "      <th>Area_Zambia</th>\n",
       "      <th>Area_Zimbabwe</th>\n",
       "    </tr>\n",
       "  </thead>\n",
       "  <tbody>\n",
       "    <tr>\n",
       "      <th>0</th>\n",
       "      <td>1990</td>\n",
       "      <td>1485.0</td>\n",
       "      <td>16.37</td>\n",
       "      <td>0.0</td>\n",
       "      <td>1.0</td>\n",
       "      <td>0.0</td>\n",
       "      <td>0.0</td>\n",
       "      <td>0.0</td>\n",
       "      <td>0.0</td>\n",
       "      <td>0.0</td>\n",
       "      <td>...</td>\n",
       "      <td>0.0</td>\n",
       "      <td>0.0</td>\n",
       "      <td>0.0</td>\n",
       "      <td>0.0</td>\n",
       "      <td>0.0</td>\n",
       "      <td>0.0</td>\n",
       "      <td>0.0</td>\n",
       "      <td>0.0</td>\n",
       "      <td>0.0</td>\n",
       "      <td>0.0</td>\n",
       "    </tr>\n",
       "    <tr>\n",
       "      <th>1</th>\n",
       "      <td>1990</td>\n",
       "      <td>1485.0</td>\n",
       "      <td>16.37</td>\n",
       "      <td>0.0</td>\n",
       "      <td>0.0</td>\n",
       "      <td>0.0</td>\n",
       "      <td>1.0</td>\n",
       "      <td>0.0</td>\n",
       "      <td>0.0</td>\n",
       "      <td>0.0</td>\n",
       "      <td>...</td>\n",
       "      <td>0.0</td>\n",
       "      <td>0.0</td>\n",
       "      <td>0.0</td>\n",
       "      <td>0.0</td>\n",
       "      <td>0.0</td>\n",
       "      <td>0.0</td>\n",
       "      <td>0.0</td>\n",
       "      <td>0.0</td>\n",
       "      <td>0.0</td>\n",
       "      <td>0.0</td>\n",
       "    </tr>\n",
       "    <tr>\n",
       "      <th>2</th>\n",
       "      <td>1990</td>\n",
       "      <td>1485.0</td>\n",
       "      <td>16.37</td>\n",
       "      <td>0.0</td>\n",
       "      <td>0.0</td>\n",
       "      <td>0.0</td>\n",
       "      <td>0.0</td>\n",
       "      <td>1.0</td>\n",
       "      <td>0.0</td>\n",
       "      <td>0.0</td>\n",
       "      <td>...</td>\n",
       "      <td>0.0</td>\n",
       "      <td>0.0</td>\n",
       "      <td>0.0</td>\n",
       "      <td>0.0</td>\n",
       "      <td>0.0</td>\n",
       "      <td>0.0</td>\n",
       "      <td>0.0</td>\n",
       "      <td>0.0</td>\n",
       "      <td>0.0</td>\n",
       "      <td>0.0</td>\n",
       "    </tr>\n",
       "    <tr>\n",
       "      <th>3</th>\n",
       "      <td>1990</td>\n",
       "      <td>1485.0</td>\n",
       "      <td>16.37</td>\n",
       "      <td>0.0</td>\n",
       "      <td>0.0</td>\n",
       "      <td>0.0</td>\n",
       "      <td>0.0</td>\n",
       "      <td>0.0</td>\n",
       "      <td>1.0</td>\n",
       "      <td>0.0</td>\n",
       "      <td>...</td>\n",
       "      <td>0.0</td>\n",
       "      <td>0.0</td>\n",
       "      <td>0.0</td>\n",
       "      <td>0.0</td>\n",
       "      <td>0.0</td>\n",
       "      <td>0.0</td>\n",
       "      <td>0.0</td>\n",
       "      <td>0.0</td>\n",
       "      <td>0.0</td>\n",
       "      <td>0.0</td>\n",
       "    </tr>\n",
       "    <tr>\n",
       "      <th>4</th>\n",
       "      <td>1990</td>\n",
       "      <td>1485.0</td>\n",
       "      <td>16.37</td>\n",
       "      <td>0.0</td>\n",
       "      <td>0.0</td>\n",
       "      <td>0.0</td>\n",
       "      <td>0.0</td>\n",
       "      <td>0.0</td>\n",
       "      <td>0.0</td>\n",
       "      <td>1.0</td>\n",
       "      <td>...</td>\n",
       "      <td>0.0</td>\n",
       "      <td>0.0</td>\n",
       "      <td>0.0</td>\n",
       "      <td>0.0</td>\n",
       "      <td>0.0</td>\n",
       "      <td>0.0</td>\n",
       "      <td>0.0</td>\n",
       "      <td>0.0</td>\n",
       "      <td>0.0</td>\n",
       "      <td>0.0</td>\n",
       "    </tr>\n",
       "  </tbody>\n",
       "</table>\n",
       "<p>5 rows × 111 columns</p>\n",
       "</div>"
      ],
      "text/plain": [
       "   Year  average_rain_fall_mm_per_year  avg_temp  Item_Cassava  Item_Maize  \\\n",
       "0  1990                         1485.0     16.37           0.0         1.0   \n",
       "1  1990                         1485.0     16.37           0.0         0.0   \n",
       "2  1990                         1485.0     16.37           0.0         0.0   \n",
       "3  1990                         1485.0     16.37           0.0         0.0   \n",
       "4  1990                         1485.0     16.37           0.0         0.0   \n",
       "\n",
       "   Item_Plantains  Item_Potatoes  Item_Rice  Item_Sorghum  Item_Soybeans  ...  \\\n",
       "0             0.0            0.0        0.0           0.0            0.0  ...   \n",
       "1             0.0            1.0        0.0           0.0            0.0  ...   \n",
       "2             0.0            0.0        1.0           0.0            0.0  ...   \n",
       "3             0.0            0.0        0.0           1.0            0.0  ...   \n",
       "4             0.0            0.0        0.0           0.0            1.0  ...   \n",
       "\n",
       "   Area_Tajikistan  Area_Thailand  Area_Tunisia  Area_Turkey  Area_Uganda  \\\n",
       "0              0.0            0.0           0.0          0.0          0.0   \n",
       "1              0.0            0.0           0.0          0.0          0.0   \n",
       "2              0.0            0.0           0.0          0.0          0.0   \n",
       "3              0.0            0.0           0.0          0.0          0.0   \n",
       "4              0.0            0.0           0.0          0.0          0.0   \n",
       "\n",
       "   Area_Ukraine  Area_United Kingdom  Area_Uruguay  Area_Zambia  Area_Zimbabwe  \n",
       "0           0.0                  0.0           0.0          0.0            0.0  \n",
       "1           0.0                  0.0           0.0          0.0            0.0  \n",
       "2           0.0                  0.0           0.0          0.0            0.0  \n",
       "3           0.0                  0.0           0.0          0.0            0.0  \n",
       "4           0.0                  0.0           0.0          0.0            0.0  \n",
       "\n",
       "[5 rows x 111 columns]"
      ]
     },
     "execution_count": 3,
     "metadata": {},
     "output_type": "execute_result"
    }
   ],
   "source": [
    "X.head()"
   ]
  },
  {
   "cell_type": "code",
   "execution_count": 4,
   "metadata": {},
   "outputs": [
    {
     "data": {
      "text/plain": [
       "0    36613\n",
       "1    66667\n",
       "2    23333\n",
       "3    12500\n",
       "4     7000\n",
       "Name: hg/ha_yield, dtype: int64"
      ]
     },
     "execution_count": 4,
     "metadata": {},
     "output_type": "execute_result"
    }
   ],
   "source": [
    "y.head()"
   ]
  },
  {
   "cell_type": "code",
   "execution_count": 5,
   "metadata": {},
   "outputs": [
    {
     "data": {
      "text/plain": [
       "(8393, 111)"
      ]
     },
     "execution_count": 5,
     "metadata": {},
     "output_type": "execute_result"
    }
   ],
   "source": [
    "X_train, X_test, y_train, y_test = train_test_split(\n",
    "    X, y, test_size=0.2, random_state=42, shuffle=True)\n",
    "scaler = StandardScaler()\n",
    "X_train = scaler.fit_transform(X_train)\n",
    "X_test = scaler.transform(X_test)\n",
    "X_train.shape"
   ]
  },
  {
   "cell_type": "code",
   "execution_count": 6,
   "metadata": {},
   "outputs": [],
   "source": [
    "def accuracy_score(actual, estimate):\n",
    "    mae = mean_absolute_error(actual, estimate)\n",
    "    mape = mean_absolute_percentage_error(actual, estimate)\n",
    "    rmse = root_mean_squared_error(actual, estimate)\n",
    "    r2 = r2_score(actual, estimate)\n",
    "    print(f' MAE: {mae:.3f}\\n MAPE: {mape:.3f}\\n' +\n",
    "          f' RMSE: {rmse:.3f}\\n R2: {r2:.3f}')"
   ]
  },
  {
   "cell_type": "markdown",
   "metadata": {},
   "source": [
    "## Baseline model\n",
    "\n",
    "### Purpose"
   ]
  },
  {
   "cell_type": "code",
   "execution_count": 7,
   "metadata": {},
   "outputs": [
    {
     "name": "stdout",
     "output_type": "stream",
     "text": [
      "Score for LinearRegression\n",
      " MAE: 17372.502\n",
      " MAPE: 0.644\n",
      " RMSE: 24759.865\n",
      " R2: 0.786\n"
     ]
    }
   ],
   "source": [
    "regressor = LinearRegression()\n",
    "regressor.fit(X_train, y_train)\n",
    "pred = regressor.predict(X_test)\n",
    "print('Score for LinearRegression')\n",
    "accuracy_score(y_test, pred)"
   ]
  },
  {
   "cell_type": "markdown",
   "metadata": {},
   "source": [
    "**Baseline model**: defined baseline accuracy for the predictor using `LinearRegression` with default parameters.\n",
    "\n",
    "---\n",
    "## Model selection"
   ]
  },
  {
   "cell_type": "code",
   "execution_count": 8,
   "metadata": {},
   "outputs": [
    {
     "name": "stdout",
     "output_type": "stream",
     "text": [
      "Score for DecisionTreeRegressor with default parameters\n",
      " MAE: 2980.270\n",
      " MAPE: 0.092\n",
      " RMSE: 8604.370\n",
      " R2: 0.974\n"
     ]
    }
   ],
   "source": [
    "tree = DecisionTreeRegressor()\n",
    "tree.fit(X_train, y_train)\n",
    "pred = tree.predict(X_test)\n",
    "print('Score for DecisionTreeRegressor with default parameters')\n",
    "accuracy_score(y_test, pred)"
   ]
  },
  {
   "cell_type": "code",
   "execution_count": 9,
   "metadata": {},
   "outputs": [
    {
     "name": "stdout",
     "output_type": "stream",
     "text": [
      "Score for RandomForestRegressor with default parameters\n",
      " MAE: 3054.816\n",
      " MAPE: 0.089\n",
      " RMSE: 7015.182\n",
      " R2: 0.983\n"
     ]
    }
   ],
   "source": [
    "forest = RandomForestRegressor()\n",
    "forest.fit(X_train, y_train)\n",
    "pred = forest.predict(X_test)\n",
    "print('Score for RandomForestRegressor with default parameters')\n",
    "accuracy_score(y_test, pred)"
   ]
  },
  {
   "cell_type": "code",
   "execution_count": 10,
   "metadata": {},
   "outputs": [
    {
     "name": "stdout",
     "output_type": "stream",
     "text": [
      " MAE: 16036.324\n",
      " MAPE: 0.437\n",
      " RMSE: 26642.250\n",
      " R2: 0.753\n"
     ]
    }
   ],
   "source": [
    "svm = SVR(kernel='linear', C=100)\n",
    "svm.fit(X_train, y_train)\n",
    "pred = svm.predict(X_test)\n",
    "accuracy_score(y_test, pred)"
   ]
  },
  {
   "cell_type": "code",
   "execution_count": 11,
   "metadata": {},
   "outputs": [
    {
     "name": "stdout",
     "output_type": "stream",
     "text": [
      " MAE: 37075.998\n",
      " MAPE: 1.312\n",
      " RMSE: 57728.489\n",
      " R2: -0.161\n"
     ]
    }
   ],
   "source": [
    "svm = SVR(kernel='poly', C=100, gamma='auto', degree=2)\n",
    "svm.fit(X_train, y_train)\n",
    "pred = svm.predict(X_test)\n",
    "accuracy_score(y_test, pred)"
   ]
  },
  {
   "cell_type": "markdown",
   "metadata": {},
   "source": [
    "After considering the performance difference between 4 different ML techniques, namely `DecisionTreeRegressor`, `RandomForestRegressor`, `SVR` with linear and polynomial kernels, the model selected is **Random Forest** for its great applicability and higher efficiency in learning than SVR.  \n",
    "It obtains better score than the baseline model (`LinearRegression`) even without any adjustment. It is also better than `SVR` (and model computation takes less time).  \n",
    "Also `SVR` might have problems related to having many encoded categorical values.\n",
    "\n",
    "---\n",
    "## Hyperparameter Tuning"
   ]
  },
  {
   "cell_type": "code",
   "execution_count": null,
   "metadata": {},
   "outputs": [
    {
     "name": "stdout",
     "output_type": "stream",
     "text": [
      "Fitting 5 folds for each of 108 candidates, totalling 540 fits\n"
     ]
    },
    {
     "data": {
      "text/plain": [
       "{'criterion': 'poisson',\n",
       " 'max_features': None,\n",
       " 'min_samples_leaf': 2,\n",
       " 'min_samples_split': 2}"
      ]
     },
     "execution_count": 12,
     "metadata": {},
     "output_type": "execute_result"
    }
   ],
   "source": [
    "forest = RandomForestRegressor()\n",
    "param_grid = {\n",
    "    'min_samples_split': [2, 4, 10],\n",
    "    'min_samples_leaf': [1, 2, 4],\n",
    "    'criterion': ['squared_error', 'friedman_mse', 'poisson'],\n",
    "    'max_features': [None, 1, 'sqrt', 'log2']\n",
    "}\n",
    "grid = GridSearchCV(forest, param_grid, verbose=1, n_jobs=-1)\n",
    "grid.fit(X_train, y_train)\n",
    "grid.best_params_"
   ]
  },
  {
   "cell_type": "markdown",
   "metadata": {},
   "source": [
    "Grid search gives us the best parameters for `RandomForestRegressor`:\n",
    "- `n_estimators`: **50**\n",
    "- `min_samples_split`: **4**\n",
    "- `min_samples_leaf`: **2**\n",
    "- `max_features`: **None**\n",
    "- `criterion`: **poisson**\n",
    "\n",
    "---\n",
    "## Model evaulation\n",
    "\n",
    "### Metrics"
   ]
  },
  {
   "cell_type": "code",
   "execution_count": 13,
   "metadata": {},
   "outputs": [
    {
     "name": "stdout",
     "output_type": "stream",
     "text": [
      " MAE: 3492.545\n",
      " MAPE: 0.093\n",
      " RMSE: 8951.360\n",
      " R2: 0.972\n"
     ]
    }
   ],
   "source": [
    "pred = grid.predict(X_test)\n",
    "accuracy_score(y_test, pred)"
   ]
  },
  {
   "cell_type": "markdown",
   "metadata": {},
   "source": [
    "### Cross fold validation"
   ]
  },
  {
   "cell_type": "code",
   "execution_count": 14,
   "metadata": {},
   "outputs": [
    {
     "name": "stdout",
     "output_type": "stream",
     "text": [
      "CV-score: 0.9695\n"
     ]
    }
   ],
   "source": [
    "score = cross_val_score(forest, X_train, y_train)\n",
    "print(f'CV-score: {score.mean():.4f}')"
   ]
  },
  {
   "cell_type": "markdown",
   "metadata": {},
   "source": [
    "The model chosen is a `RandomForestRegressor`.  \n",
    "- **Metrics**: with the parameters obtained from the previous optimization, the regressor gains only a slight increase in accuracy for much longer train time.\n",
    "- **Cross validation**: performed cross validation with different number of estimators to see if it could help reduce the prediction error. A lower value could be used to limit resources usage as there is no significant increase in the CV-score."
   ]
  },
  {
   "cell_type": "code",
   "execution_count": null,
   "metadata": {},
   "outputs": [
    {
     "name": "stdout",
     "output_type": "stream",
     "text": [
      "Score for base predictor\n",
      " MAE: 3027.912\n",
      " MAPE: 0.094\n",
      " RMSE: 8452.425\n",
      " R2: 0.975\n",
      "Score for best predictor\n",
      " MAE: 3498.881\n",
      " MAPE: 0.093\n",
      " RMSE: 8995.100\n",
      " R2: 0.972\n"
     ]
    }
   ],
   "source": [
    "base = RandomForestRegressor()\n",
    "base.fit(X_train, y_train)\n",
    "base_pred = base.predict(X_test)\n",
    "print('Score for base predictor')\n",
    "accuracy_score(y_test, base_pred)\n",
    "forest = grid.best_estimator_\n",
    "forest.fit(X_train, y_train)\n",
    "pred = forest.predict(X_test)\n",
    "print('Score for best predictor')\n",
    "accuracy_score(y_test, pred)"
   ]
  },
  {
   "cell_type": "markdown",
   "metadata": {},
   "source": [
    "Since the fault parameters for `RandomForestRegressor` actually produce more complex (and overall more) trees, we are satisfied that there is only minimal increase in error.\n",
    "\n",
    "---\n",
    "\n",
    "## Feature importance and model interpretability"
   ]
  },
  {
   "cell_type": "code",
   "execution_count": 16,
   "metadata": {},
   "outputs": [
    {
     "data": {
      "text/plain": [
       "Index(['Item_Potatoes', 'Item_Cassava', 'Item_Sweet potatoes',\n",
       "       'average_rain_fall_mm_per_year', 'Item_Yams', 'avg_temp',\n",
       "       'Item_Plantains', 'Item_Rice', 'Area_Mexico', 'Area_India',\n",
       "       ...\n",
       "       'Area_Austria', 'Area_Malaysia', 'Area_Estonia', 'Area_Belarus',\n",
       "       'Area_Netherlands', 'Area_Egypt', 'Area_Denmark', 'Area_Norway',\n",
       "       'Area_Latvia', 'Area_Botswana'],\n",
       "      dtype='object', length=111)"
      ]
     },
     "execution_count": 16,
     "metadata": {},
     "output_type": "execute_result"
    }
   ],
   "source": [
    "important = forest.feature_importances_.argsort()[::-1]\n",
    "X.columns[important]"
   ]
  },
  {
   "cell_type": "markdown",
   "metadata": {},
   "source": [
    "- **Feature importance**: from the model we can see above the most important features.\n",
    "- Since the model has many rows due to the number of categories for the column `Area` (before encoding) Gini importance may not be accurate enough.\n",
    "\n",
    "---\n",
    "\n",
    "## Export the best model"
   ]
  },
  {
   "cell_type": "code",
   "execution_count": 17,
   "metadata": {},
   "outputs": [],
   "source": [
    "with open('../artifacts/model.pkl', 'wb') as file:\n",
    "    pickle.dump(grid.best_estimator_, file)\n",
    "with open('../artifacts/encoder.pkl', 'wb') as file:\n",
    "    pickle.dump(encoder, file)\n",
    "with open('../artifacts/scaler.pkl', 'wb') as file:\n",
    "    pickle.dump(scaler, file)"
   ]
  },
  {
   "cell_type": "markdown",
   "metadata": {},
   "source": [
    "- **Model**: exported to `artifacts/model.pkl`\n",
    "- **Encoder**: exported to `artifacts/encoder.pkl`\n",
    "- **Scaler**: exported to `artifacts/scaler.pkl`\n",
    "\n",
    "---\n",
    "\n",
    "## Conclusions\n",
    "\n",
    "- **Baseline model**: defined a baseline model using `LogisticRegression` with default parameters.\n",
    "- **Model Selection**: inspected other models (`RandomForestRegressor` and `SVR`). Chosen `RandomForestRegressor`\n",
    "- **Hyperparameter tuning**: best parameters for the regressor while also optimizing the model size.\n",
    "- **Model evaluation**: measured accuracy of the model with **default metrics** and **cross validation**.\n",
    "- **Feature importance**: displayed feature importance for model interpretability.\n",
    "- **Export**: exported the model along with the scaler and encoder."
   ]
  }
 ],
 "metadata": {
  "kernelspec": {
   "display_name": ".venv",
   "language": "python",
   "name": "python3"
  },
  "language_info": {
   "codemirror_mode": {
    "name": "ipython",
    "version": 3
   },
   "file_extension": ".py",
   "mimetype": "text/x-python",
   "name": "python",
   "nbconvert_exporter": "python",
   "pygments_lexer": "ipython3",
   "version": "3.12.8"
  }
 },
 "nbformat": 4,
 "nbformat_minor": 2
}
